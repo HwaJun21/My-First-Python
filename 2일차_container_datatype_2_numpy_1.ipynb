{
  "nbformat": 4,
  "nbformat_minor": 0,
  "metadata": {
    "colab": {
      "provenance": []
    },
    "kernelspec": {
      "name": "python3",
      "display_name": "Python 3"
    },
    "language_info": {
      "name": "python"
    }
  },
  "cells": [
    {
      "cell_type": "markdown",
      "source": [
        "딕셔너리\n",
        "  - 리스트가 인덱스를 통해 요소를 참조한다면, 딕셔너리는 키를 이용하여 요소를 참조\n",
        "  - 구조\n",
        "    1. 키와 값의 쌍으로 이루어짐\n",
        "    2. 순서와 상과없이 키를 이용해서 바로에 값에 접근이 가능\n",
        "    3. 인덱스 접근이 아니기때문에 순서가 없다\n",
        "  - 주의 !!!\n",
        "    1. 딕셔너리에서는 키는 중복될 수 없다. 하지만 값은 중복될 수 있다\n",
        "    2. 키와 값에 사용하는 데이터는 어떤 자료형이든 올 수 있다\n",
        "      - 문자열:정수, 문자열:실수, 문자열:문자열\n",
        "      - 문자열:리스크, 튜플, 딕셔너리\n",
        "    3. 키에는 리스트나 set이 올 수 없다\n",
        "      - 불변한 객체타입이 와야하기 때문에 변하는 객체타입의 값은 올 수 없다\n",
        "\n",
        "요소 조회\n",
        "  - 요소갯수 : len()\n",
        "  - 전체 키 조회 : keys()\n",
        "  - 전체 값 조회 : values()"
      ],
      "metadata": {
        "id": "vggRx8KeujSY"
      }
    },
    {
      "cell_type": "code",
      "execution_count": 7,
      "metadata": {
        "colab": {
          "base_uri": "https://localhost:8080/"
        },
        "id": "fPGWt2Uop9tm",
        "outputId": "4f5b11f9-2e9f-47bb-fb71-62c9bb63d6bc"
      },
      "outputs": [
        {
          "output_type": "stream",
          "name": "stdout",
          "text": [
            "{'이름': '홍길동', '나이': 20, '성별': '남'}\n",
            "{'이름': '홍길동', '나이': 20, '성별': '남', '주소': '서울'}\n",
            "{'이름': '홍길동', '나이': 20, '성별': '남', '주소': '경기'}\n",
            "d의 전체 키 : dict_keys(['이름', '나이', '성별', '주소'])\n",
            "d의 전체 값 : dict_values(['홍길동', 20, '남', '경기'])\n",
            "d의 전체 길이 : 4\n"
          ]
        }
      ],
      "source": [
        "d = {\"이름\":\"홍길동\", \"나이\":20, \"성별\":\"남\"}\n",
        "print(d)\n",
        "\n",
        "d[\"주소\"] = \"서울\"\n",
        "print(d)\n",
        "\n",
        "d[\"주소\"] = \"경기\"\n",
        "print(d)\n",
        "\n",
        "print(\"d의 전체 키 :\", d.keys())\n",
        "print(\"d의 전체 값 :\", d.values())\n",
        "print(\"d의 전체 길이 :\", len(d))"
      ]
    },
    {
      "cell_type": "markdown",
      "source": [
        "딕셔너리 컴프리헨션"
      ],
      "metadata": {
        "id": "KxnZfdVQyrun"
      }
    },
    {
      "cell_type": "code",
      "source": [
        "l1 = [i for i in range(10)]\n",
        "print(l1)"
      ],
      "metadata": {
        "colab": {
          "base_uri": "https://localhost:8080/"
        },
        "id": "tjmQ-_sZyuUT",
        "outputId": "65769e64-cdd7-4d3e-f449-af0d37249dea"
      },
      "execution_count": 8,
      "outputs": [
        {
          "output_type": "stream",
          "name": "stdout",
          "text": [
            "[0, 1, 2, 3, 4, 5, 6, 7, 8, 9]\n"
          ]
        }
      ]
    },
    {
      "cell_type": "code",
      "source": [
        "d1 = {i:i for i in range(10)}\n",
        "print(d1)"
      ],
      "metadata": {
        "colab": {
          "base_uri": "https://localhost:8080/"
        },
        "id": "sV9to84ly4-d",
        "outputId": "647d5450-160f-4ca1-e40d-ef089163afab"
      },
      "execution_count": 10,
      "outputs": [
        {
          "output_type": "stream",
          "name": "stdout",
          "text": [
            "{0: 0, 1: 1, 2: 2, 3: 3, 4: 4, 5: 5, 6: 6, 7: 7, 8: 8, 9: 9}\n"
          ]
        }
      ]
    },
    {
      "cell_type": "markdown",
      "source": [
        "1~20까지의 숫자 중 3의 배수인 숫자로 딕셔너리 생성"
      ],
      "metadata": {
        "id": "KwiGHhV6zUWW"
      }
    },
    {
      "cell_type": "code",
      "source": [
        "d1 = {i:i for i in range(3, 21, 3)}\n",
        "print(d1)"
      ],
      "metadata": {
        "colab": {
          "base_uri": "https://localhost:8080/"
        },
        "id": "lpEZrflpzZ6e",
        "outputId": "af955b56-46ca-4b66-ca72-efb97e887129"
      },
      "execution_count": 11,
      "outputs": [
        {
          "output_type": "stream",
          "name": "stdout",
          "text": [
            "{3: 3, 6: 6, 9: 9, 12: 12, 15: 15, 18: 18}\n"
          ]
        }
      ]
    },
    {
      "cell_type": "code",
      "source": [
        "print(d)\n",
        "\n",
        "for key in d.keys():\n",
        "  print(key, \":\",d[key])"
      ],
      "metadata": {
        "colab": {
          "base_uri": "https://localhost:8080/"
        },
        "id": "PH7dvq5az8K2",
        "outputId": "7423e9f9-e281-4b73-8ffe-875ec003a881"
      },
      "execution_count": 13,
      "outputs": [
        {
          "output_type": "stream",
          "name": "stdout",
          "text": [
            "{'이름': '홍길동', '나이': 20, '성별': '남', '주소': '경기'}\n",
            "이름 : 홍길동\n",
            "나이 : 20\n",
            "성별 : 남\n",
            "주소 : 경기\n"
          ]
        }
      ]
    },
    {
      "cell_type": "markdown",
      "source": [
        "내장함수 zip\n",
        "  - 여러개의 리스트, 튜플등의 자료형을 딕셔너리 형태로 생성\n",
        "  - 동일한 갯수로 이루어진 자료형들을 1개로 묶어준다\n",
        "  - 입력매개변수는 iterable이어야 한다(반복 가능한 자료형)"
      ],
      "metadata": {
        "id": "ldtKf7qS0WrC"
      }
    },
    {
      "cell_type": "code",
      "source": [
        "# 요소의 갯수가 같은 경우\n",
        "name = ['김','이','박']\n",
        "addr = ['서','부','광']\n",
        "print(list(zip(name, addr)))"
      ],
      "metadata": {
        "colab": {
          "base_uri": "https://localhost:8080/"
        },
        "id": "YfX3yOQs05_v",
        "outputId": "8c333e61-c8e3-48e3-d2fc-566bb2aaeaf5"
      },
      "execution_count": 14,
      "outputs": [
        {
          "output_type": "stream",
          "name": "stdout",
          "text": [
            "[('김', '서'), ('이', '부'), ('박', '광')]\n"
          ]
        }
      ]
    },
    {
      "cell_type": "code",
      "source": [
        "# 요소의 갯수가 다른 경우\n",
        "name = ['김','이']\n",
        "addr = ['서','부','광']\n",
        "print(list(zip(name, addr)))"
      ],
      "metadata": {
        "colab": {
          "base_uri": "https://localhost:8080/"
        },
        "id": "0Ujm74cs1Vmg",
        "outputId": "f4b42e16-8215-41b3-b6a9-670efa618328"
      },
      "execution_count": 15,
      "outputs": [
        {
          "output_type": "stream",
          "name": "stdout",
          "text": [
            "[('김', '서'), ('이', '부')]\n"
          ]
        }
      ]
    },
    {
      "cell_type": "code",
      "source": [
        "# 요소의 갯수가 다른 경우\n",
        "name = ['김','이','박']\n",
        "addr = ['서','부']\n",
        "print(list(zip(name, addr)))"
      ],
      "metadata": {
        "colab": {
          "base_uri": "https://localhost:8080/"
        },
        "id": "k3xQOU0m18T5",
        "outputId": "7367d19f-bf70-45d8-dd34-09dd59a95972"
      },
      "execution_count": 16,
      "outputs": [
        {
          "output_type": "stream",
          "name": "stdout",
          "text": [
            "[('김', '서'), ('이', '부')]\n"
          ]
        }
      ]
    },
    {
      "cell_type": "code",
      "source": [
        "# 문자일 경우\n",
        "str1 = 'abcde'\n",
        "str2 = '12345'\n",
        "print(list(zip(str1, str2)))"
      ],
      "metadata": {
        "colab": {
          "base_uri": "https://localhost:8080/"
        },
        "id": "iB7MG-9U2HTj",
        "outputId": "6f256cbd-3806-414b-a0ff-477612b96e8b"
      },
      "execution_count": 17,
      "outputs": [
        {
          "output_type": "stream",
          "name": "stdout",
          "text": [
            "[('a', '1'), ('b', '2'), ('c', '3'), ('d', '4'), ('e', '5')]\n"
          ]
        }
      ]
    },
    {
      "cell_type": "markdown",
      "source": [
        "딕셔너리로 생성"
      ],
      "metadata": {
        "id": "qxpsketL2kng"
      }
    },
    {
      "cell_type": "code",
      "source": [
        "name = ['김','이','박']\n",
        "addr = ['서','부','광']\n",
        "print(dict(zip(name, addr)))"
      ],
      "metadata": {
        "colab": {
          "base_uri": "https://localhost:8080/"
        },
        "id": "DqzUW6ae2slo",
        "outputId": "2d32c33a-4b41-4d83-9960-a622d8fbf943"
      },
      "execution_count": 18,
      "outputs": [
        {
          "output_type": "stream",
          "name": "stdout",
          "text": [
            "{'김': '서', '이': '부', '박': '광'}\n"
          ]
        }
      ]
    },
    {
      "cell_type": "markdown",
      "source": [
        "반복문을 이용해서 2개 이상의 리스트를 인덱스별로 dict를 만들거나 튜플로 변환"
      ],
      "metadata": {
        "id": "QB365wZ93BQe"
      }
    },
    {
      "cell_type": "code",
      "source": [
        "name = ['홍','김','이','박','차','임']\n",
        "height = [163,178,181,179,169,185]\n",
        "gender = ['F','M','F','M','M','M']"
      ],
      "metadata": {
        "id": "BuRKgkpu3Nwf"
      },
      "execution_count": 19,
      "outputs": []
    },
    {
      "cell_type": "markdown",
      "source": [
        "1. zip()으로 2개의 리스트를 묶어서 출력"
      ],
      "metadata": {
        "id": "2lBUyYCJ3i9q"
      }
    },
    {
      "cell_type": "code",
      "source": [
        "for k, v in zip(name, height):\n",
        "  print(k, v)"
      ],
      "metadata": {
        "colab": {
          "base_uri": "https://localhost:8080/"
        },
        "id": "UEllgbwr3pjE",
        "outputId": "32e54d16-b2f9-4577-ca45-d19a6e0939bd"
      },
      "execution_count": 20,
      "outputs": [
        {
          "output_type": "stream",
          "name": "stdout",
          "text": [
            "홍 163\n",
            "김 178\n",
            "이 181\n",
            "박 179\n",
            "차 169\n",
            "임 185\n"
          ]
        }
      ]
    },
    {
      "cell_type": "markdown",
      "source": [
        "2. zip()으로 2개의 리스트를 묶어서 dict만들기"
      ],
      "metadata": {
        "id": "E7d0Kbi53qNv"
      }
    },
    {
      "cell_type": "code",
      "source": [
        "id = {}\n",
        "\n",
        "for k, v in zip(name, height):\n",
        "  id[k] = v\n",
        "print(id)"
      ],
      "metadata": {
        "colab": {
          "base_uri": "https://localhost:8080/"
        },
        "id": "cMVh52HB3wsr",
        "outputId": "37f6139f-80da-47cd-b13a-577b9214462b"
      },
      "execution_count": 21,
      "outputs": [
        {
          "output_type": "stream",
          "name": "stdout",
          "text": [
            "{'홍': 163, '김': 178, '이': 181, '박': 179, '차': 169, '임': 185}\n"
          ]
        }
      ]
    },
    {
      "cell_type": "markdown",
      "source": [
        "3. zip()으로 3개의 리스트를 묶어서 dict만들기\n",
        "  - value에 뒤의 2개의 리스트에 인덱스가 같은 원소들이 튜플 형태로 묶여 key에 배정된다."
      ],
      "metadata": {
        "id": "ANhSb_rD-6Bj"
      }
    },
    {
      "cell_type": "code",
      "source": [
        "resid = {}\n",
        "\n",
        "for k, v, g in zip(name, height, gender):\n",
        "  resid[k] = v, g\n",
        "print(resid)"
      ],
      "metadata": {
        "colab": {
          "base_uri": "https://localhost:8080/"
        },
        "id": "4riR4gvG_RvW",
        "outputId": "b9a2da69-e2c1-4a34-ef83-7f38a1b776c5"
      },
      "execution_count": 22,
      "outputs": [
        {
          "output_type": "stream",
          "name": "stdout",
          "text": [
            "{'홍': (163, 'F'), '김': (178, 'M'), '이': (181, 'F'), '박': (179, 'M'), '차': (169, 'M'), '임': (185, 'M')}\n"
          ]
        }
      ]
    },
    {
      "cell_type": "markdown",
      "source": [
        "Numpy\n",
        "  - 강력한 n차원 배열 객체\n",
        "  - 리스트와 비슷\n",
        "  - 반복문 없이 데이터 배열에 대한 처리를 지원\n",
        "  - 넘파이 사용\n",
        "    1. 패키지 설치 : pip\n",
        "      - pip install numpy\n",
        "    2. 넘파이 : import\n",
        "      - import numpy as np"
      ],
      "metadata": {
        "id": "27N97ll1A-7K"
      }
    },
    {
      "cell_type": "code",
      "source": [
        "!pip install numpy"
      ],
      "metadata": {
        "colab": {
          "base_uri": "https://localhost:8080/"
        },
        "id": "RpvhcBNRBfhw",
        "outputId": "a98ae619-c09e-41d2-c3e9-f50a5631bbd5"
      },
      "execution_count": 23,
      "outputs": [
        {
          "output_type": "stream",
          "name": "stdout",
          "text": [
            "Requirement already satisfied: numpy in /usr/local/lib/python3.11/dist-packages (2.0.2)\n"
          ]
        }
      ]
    },
    {
      "cell_type": "markdown",
      "source": [
        "넘파이\n",
        "  - 다차원 배열 지원"
      ],
      "metadata": {
        "id": "JdhITaFqBmuz"
      }
    },
    {
      "cell_type": "code",
      "source": [
        "# 1차원 배열(list)로 numpy 배열 생성\n",
        "\n",
        "import numpy as np\n",
        "\n",
        "arr = np.array([1,2,3,4,5])\n",
        "print(arr)"
      ],
      "metadata": {
        "colab": {
          "base_uri": "https://localhost:8080/"
        },
        "id": "eR_BlYqIBqsD",
        "outputId": "542dc3d7-7ad2-4a03-b01a-82bbbf5ab15c"
      },
      "execution_count": 25,
      "outputs": [
        {
          "output_type": "stream",
          "name": "stdout",
          "text": [
            "[1 2 3 4 5]\n"
          ]
        }
      ]
    },
    {
      "cell_type": "code",
      "source": [
        "# 2차원 배열(list)로 numpy 배열 생성\n",
        "\n",
        "arr = np.array([[1,2,3],[4,5,6]])\n",
        "print(arr)"
      ],
      "metadata": {
        "colab": {
          "base_uri": "https://localhost:8080/"
        },
        "id": "P9oAoYL8CAMl",
        "outputId": "e7bbe5b2-9fc1-4684-8d7e-907033ab1cbe"
      },
      "execution_count": 27,
      "outputs": [
        {
          "output_type": "stream",
          "name": "stdout",
          "text": [
            "[[1 2 3]\n",
            " [4 5 6]]\n"
          ]
        }
      ]
    },
    {
      "cell_type": "code",
      "source": [
        "# 3차원 배열(list)로 numpy 배열 생성\n",
        "\n",
        "arr = np.array([[[1,2,3],[4,5,6],[7,8,9]],\n",
        "                [[1,2,3],[4,5,6],[7,8,9]],\n",
        "                [[1,2,3],[4,5,6],[7,8,9]]])\n",
        "print(arr)"
      ],
      "metadata": {
        "colab": {
          "base_uri": "https://localhost:8080/"
        },
        "id": "LWhjTgvbCOk9",
        "outputId": "a3078234-5a2c-4fed-dd13-47df0d449146"
      },
      "execution_count": 28,
      "outputs": [
        {
          "output_type": "stream",
          "name": "stdout",
          "text": [
            "[[[1 2 3]\n",
            "  [4 5 6]\n",
            "  [7 8 9]]\n",
            "\n",
            " [[1 2 3]\n",
            "  [4 5 6]\n",
            "  [7 8 9]]\n",
            "\n",
            " [[1 2 3]\n",
            "  [4 5 6]\n",
            "  [7 8 9]]]\n"
          ]
        }
      ]
    },
    {
      "cell_type": "markdown",
      "source": [
        "넘파이 배열 생성 및 초기화\n",
        "  - 플레이스홀더를 이용해서 배열을 만들기 위한 다양한 함수 제공\n",
        "  - 생성및 초기화 함수\n",
        "    1. zeros()\n",
        "      - 주어진 형태와 타입을 0으로 채워진 배열을 반환\n",
        "      - np.zeros(shape, dtype=float, order='C)\n",
        "      - 지정된 shape의 배열을 생성하고 모든 요소를 0으로 초기화\n",
        "    2. ones()\n",
        "      - 주어진 형태와 타입을 1로 채워진 배열을 반환\n",
        "      - np.ones(shape, dtype=float, order='C)\n",
        "      - 지정된 shape의 배열을 생성하고 모든 요소를 1로 초기화\n",
        "    3. full()\n",
        "      - 모든 요소를 지정한 값으로 초기화\n",
        "      - np.full(shape, full_value, dtype=float, order='C)\n",
        "      - 지정된 shape의 배열을 생성하고 모든 요소를 full_value로 초기화\n",
        "    4. eye()\n",
        "      - 단위행렬(정사각형 행렬)생성\n",
        "      - 주대각선의 원소가 모두 1이고 나머지 원소는 모두 0인 정사각형 행렬\n",
        "      - np.eye(N, M=None, k=0, dtype=<class 'float'>)\n",
        "      - (N, N) shape의 단위행렬을 생성 -> np.eye(n크기)"
      ],
      "metadata": {
        "id": "FklOsrsgCrc2"
      }
    },
    {
      "cell_type": "markdown",
      "source": [
        "- 생성한 값으로 배열 생성\n",
        "  1. np.arange()\n",
        "    - np.arange([start], stop, [step], dtype = None)"
      ],
      "metadata": {
        "id": "ZSWM9IdSEUMo"
      }
    },
    {
      "cell_type": "code",
      "source": [
        "# arange() : 정수 범위로 배열 생성\n",
        "\n",
        "a = np.arange(1, 21)\n",
        "print(a)"
      ],
      "metadata": {
        "colab": {
          "base_uri": "https://localhost:8080/"
        },
        "id": "o1nLmVIJFJtt",
        "outputId": "f0c0df21-839f-4f81-e886-e5a509510b49"
      },
      "execution_count": 29,
      "outputs": [
        {
          "output_type": "stream",
          "name": "stdout",
          "text": [
            "[ 1  2  3  4  5  6  7  8  9 10 11 12 13 14 15 16 17 18 19 20]\n"
          ]
        }
      ]
    },
    {
      "cell_type": "markdown",
      "source": [
        "  2. np.linspace() : 범위내에서 균등 간격의 배열 생성\n",
        "    - np.linspace(start, stop, num=50, endpoint=True, retstop=False, dtype=None)\n",
        "    - start부터 stop의 범위에서 num개를 균일한 간격으로 데이터를 생성하고 그 배열을 만든다\n",
        "    - 요소 개수를 기준으로 균등 간격의 배열 생성"
      ],
      "metadata": {
        "id": "K7r3FQhgFxsv"
      }
    },
    {
      "cell_type": "code",
      "source": [
        "a = np.linspace(0, 10, 5)\n",
        "print(a)"
      ],
      "metadata": {
        "colab": {
          "base_uri": "https://localhost:8080/"
        },
        "id": "dgxfCKwFGh5A",
        "outputId": "fbdb44c9-5422-4b17-d5be-2ba1adde9e42"
      },
      "execution_count": 30,
      "outputs": [
        {
          "output_type": "stream",
          "name": "stdout",
          "text": [
            "[ 0.   2.5  5.   7.5 10. ]\n"
          ]
        }
      ]
    },
    {
      "cell_type": "markdown",
      "source": [
        "  3. np.logspace()\n",
        "    - np.logspace(start, stop, num=50, endpoint=True, base=10.0, dtype=None)\n",
        "    - 로그 스케일의 linspace()\n",
        "    - 로그스케일로 지정된 범위에서 num개수 만큼 균등 간격으로 데이터 생성 후 배열 생성"
      ],
      "metadata": {
        "id": "fKPvNap6G0oi"
      }
    },
    {
      "cell_type": "code",
      "source": [
        "a = np.logspace(np.log10(10), np.log10(100), 5)\n",
        "print(a)\n",
        "\n",
        "a = np.logspace(1, 2, 5)\n",
        "print(a)"
      ],
      "metadata": {
        "colab": {
          "base_uri": "https://localhost:8080/"
        },
        "id": "a1AI5tonHU56",
        "outputId": "137f664b-9a6d-4774-d5ed-033a509d617a"
      },
      "execution_count": 32,
      "outputs": [
        {
          "output_type": "stream",
          "name": "stdout",
          "text": [
            "[ 10.          17.7827941   31.6227766   56.23413252 100.        ]\n",
            "[ 10.          17.7827941   31.6227766   56.23413252 100.        ]\n"
          ]
        }
      ]
    },
    {
      "cell_type": "markdown",
      "source": [
        "  4. np.random 모듈 제공 : 난수 함수\n",
        "    - seed : 난수함수 발생을 위한 시드 설정\n",
        "    - shuffle : 리스트나 배열의 순서를 섞음\n",
        "    - random : 랜덤한 수의 배열 생성\n",
        "    - ranint : 일정 구간의 랜덤 정수 배열 생성\n",
        "    - rand : 균등분포에서 표본 추출\n",
        "    - randn : 표준편차가 1, 평균값이 0인 정규분포의 표본 추출\n",
        "    - normal : 정규분포를 고려한 랜덤한 수의 배열을 생성\n",
        "\n",
        "난 수기반의 배열 생성\n",
        "  - random()\n",
        "    1. np.random.random(size=None)\n",
        "    2. 남수 [0. , 1.]의 균등 분포에서 표본 추출"
      ],
      "metadata": {
        "id": "uBUMNU8RKBOt"
      }
    },
    {
      "cell_type": "code",
      "source": [
        "# random : 랜덤한 수의 배열 생성\n",
        "a = np.random.random()\n",
        "print(a)"
      ],
      "metadata": {
        "colab": {
          "base_uri": "https://localhost:8080/"
        },
        "id": "iB4QyLmyMOb5",
        "outputId": "6812a19c-691d-43f8-8e8e-19e64e40daf7"
      },
      "execution_count": 33,
      "outputs": [
        {
          "output_type": "stream",
          "name": "stdout",
          "text": [
            "0.4142419579110138\n"
          ]
        }
      ]
    },
    {
      "cell_type": "code",
      "source": [
        "a = np.random.random((4,4))\n",
        "print(a)"
      ],
      "metadata": {
        "colab": {
          "base_uri": "https://localhost:8080/"
        },
        "id": "YELlqpU5MeEO",
        "outputId": "c705b673-0168-4c83-8667-92e61e0fa6c1"
      },
      "execution_count": 34,
      "outputs": [
        {
          "output_type": "stream",
          "name": "stdout",
          "text": [
            "[[0.49533729 0.27351574 0.50757495 0.67468854]\n",
            " [0.70070908 0.36550599 0.52052029 0.35467476]\n",
            " [0.48479967 0.86704855 0.9640385  0.69744267]\n",
            " [0.15701441 0.8268304  0.49210337 0.36233634]]\n"
          ]
        }
      ]
    },
    {
      "cell_type": "markdown",
      "source": [
        "randint()\n",
        "  - np.random.randint(low, high=None, size=None, dtype='l')"
      ],
      "metadata": {
        "id": "qTSVv2FeMI_6"
      }
    },
    {
      "cell_type": "code",
      "source": [
        "# randint()\n",
        "a = np.random.randint(1, 10)\n",
        "print(a)"
      ],
      "metadata": {
        "colab": {
          "base_uri": "https://localhost:8080/"
        },
        "id": "xJz2vej1MyvV",
        "outputId": "4dc2ce91-e0da-46c4-fe2c-e15ff0361977"
      },
      "execution_count": 35,
      "outputs": [
        {
          "output_type": "stream",
          "name": "stdout",
          "text": [
            "2\n"
          ]
        }
      ]
    },
    {
      "cell_type": "code",
      "source": [
        "a = np.random.randint(1, 10, (4,4))\n",
        "print(a)"
      ],
      "metadata": {
        "colab": {
          "base_uri": "https://localhost:8080/"
        },
        "id": "K_u4o2LHM-7O",
        "outputId": "a6b78363-fd75-41c5-ebda-2880369b63ae"
      },
      "execution_count": 36,
      "outputs": [
        {
          "output_type": "stream",
          "name": "stdout",
          "text": [
            "[[2 5 2 2]\n",
            " [4 5 3 8]\n",
            " [6 7 1 6]\n",
            " [4 3 3 8]]\n"
          ]
        }
      ]
    },
    {
      "cell_type": "markdown",
      "source": [
        "난수 기반의 배열 생성\n",
        "  - rand()\n",
        "    1. shape가 (d0, d1, ... dn)인 배열 생성 후 난수로 초기화\n",
        "    2. 난수 : [0,1]의 균등분포 형성으로 표본 추출"
      ],
      "metadata": {
        "id": "f-pg9z_eNFRi"
      }
    },
    {
      "cell_type": "code",
      "source": [
        "a = np.random.rand(3,3)\n",
        "print(a)"
      ],
      "metadata": {
        "colab": {
          "base_uri": "https://localhost:8080/"
        },
        "id": "eJkvakOONXsg",
        "outputId": "87109a14-4dab-41ff-aecd-32a9b7f42a3c"
      },
      "execution_count": 37,
      "outputs": [
        {
          "output_type": "stream",
          "name": "stdout",
          "text": [
            "[[0.09889653 0.47337063 0.8604838 ]\n",
            " [0.87986181 0.03583277 0.91115999]\n",
            " [0.54268133 0.36811332 0.34542332]]\n"
          ]
        }
      ]
    },
    {
      "cell_type": "markdown",
      "source": [
        "  - rand()\n",
        "  1. shape가 (d0, d1, ... dn)인 배열 생성 후 난수로 초기화\n",
        "  2. 난수 : 표준 정규 분포에서 표본 추출"
      ],
      "metadata": {
        "id": "x08GkZukNiH_"
      }
    },
    {
      "cell_type": "code",
      "source": [
        "a = np.random.randn(3,3)\n",
        "print(a)"
      ],
      "metadata": {
        "colab": {
          "base_uri": "https://localhost:8080/"
        },
        "id": "JSmRHZgSNzG6",
        "outputId": "7a1d5b15-e531-4c7e-affb-1c706726cd83"
      },
      "execution_count": 38,
      "outputs": [
        {
          "output_type": "stream",
          "name": "stdout",
          "text": [
            "[[ 0.17530639  0.05062974  1.97053102]\n",
            " [ 0.61111618  0.92077448 -0.76865943]\n",
            " [ 1.27789654 -0.80324329 -0.87658848]]\n"
          ]
        }
      ]
    },
    {
      "cell_type": "markdown",
      "source": [
        "넘파이 배열 조회\n",
        "  - 넘파이 표준 데이터 타입 : dtype 속성으로 데이터 타입 지정\n",
        "    1. np.int32/64 : 64q비트 정수 타입\n",
        "    2. np.float32/64 : 32비트 부동 소수 타입\n",
        "    3. np.bool : 불린타입(True, False)\n",
        "    4. np.object : 파이썬 객체 타입\n",
        "    5. np.complex : 복소수(128 float)\n",
        "  - 넘파이 배열 속성 정보 : 배열의 속성을 검사하는 방법 제공\n",
        "    1. ndim : 배열 차원 수 또는 배열 축의 수\n",
        "    2. shape : 배열 각 차원의 크기를 튜플 형태로 표현\n",
        "    3. size : 배열 원소의 갯수\n",
        "    4. dtype : 배열 내 원소의 데이터형\n",
        "    5. itemsize : 배열 내 원소의 크기를 바이트 단위로 기술\n",
        "    6. nbytes : 배열 전체 바이트"
      ],
      "metadata": {
        "id": "3cHCVvhJOAzF"
      }
    },
    {
      "cell_type": "code",
      "source": [
        "arr = np.arange(1, 6)\n",
        "print(arr)"
      ],
      "metadata": {
        "colab": {
          "base_uri": "https://localhost:8080/"
        },
        "id": "dkgau7F6PNve",
        "outputId": "aa581d30-f117-405c-c02b-7ec87f8a9c40"
      },
      "execution_count": 39,
      "outputs": [
        {
          "output_type": "stream",
          "name": "stdout",
          "text": [
            "[1 2 3 4 5]\n"
          ]
        }
      ]
    },
    {
      "cell_type": "code",
      "source": [
        "print(\"ndim :\", arr.ndim)\n",
        "print(\"shape :\", arr.shape)\n",
        "print(\"dtype :\", arr.dtype)\n",
        "print(\"size :\", arr.size)\n",
        "print(\"itemsize :\", arr.itemsize)\n",
        "print(\"nbytes :\", arr.nbytes)"
      ],
      "metadata": {
        "colab": {
          "base_uri": "https://localhost:8080/"
        },
        "id": "RS5g1hTNPSkM",
        "outputId": "c2c4a5ac-ed3c-4265-9022-12808b67142e"
      },
      "execution_count": 41,
      "outputs": [
        {
          "output_type": "stream",
          "name": "stdout",
          "text": [
            "ndim : 1\n",
            "shape : (5,)\n",
            "dtype : int64\n",
            "size : 5\n",
            "itemsize : 8\n",
            "nbytes : 40\n"
          ]
        }
      ]
    },
    {
      "cell_type": "markdown",
      "source": [
        "배열 인덱싱\n",
        "  - axis 인덱스 배열로 참조"
      ],
      "metadata": {
        "id": "EZKqBhZAPxAy"
      }
    },
    {
      "cell_type": "code",
      "source": [
        "# 1차원 배열의 인덱싱 및 변경\n",
        "a1 = np.arange(9)\n",
        "\n",
        "print(a1)\n",
        "print(a1[0])\n",
        "print(a1[-1])\n",
        "a1[0] = 10\n",
        "print(a1)"
      ],
      "metadata": {
        "colab": {
          "base_uri": "https://localhost:8080/"
        },
        "id": "8oOnbUKYP3Yg",
        "outputId": "b0434428-1d8b-4c13-f6a1-8a59ff86a639"
      },
      "execution_count": 47,
      "outputs": [
        {
          "output_type": "stream",
          "name": "stdout",
          "text": [
            "[0 1 2 3 4 5 6 7 8]\n",
            "0\n",
            "8\n",
            "[10  1  2  3  4  5  6  7  8]\n"
          ]
        }
      ]
    },
    {
      "cell_type": "code",
      "source": [
        "# 1차원 배열의 인덱싱 및 변경\n",
        "a2 = np.arange(9).reshape((3,3))\n",
        "print(a2)\n",
        "print(a2[0,1])\n",
        "print(a2[0][1])\n",
        "a2[0,0] = 10\n",
        "print(a2)"
      ],
      "metadata": {
        "colab": {
          "base_uri": "https://localhost:8080/"
        },
        "id": "FFKxqMOgQjZZ",
        "outputId": "00f0e2df-0ec9-40e0-87ef-9285bea1e5b7"
      },
      "execution_count": 52,
      "outputs": [
        {
          "output_type": "stream",
          "name": "stdout",
          "text": [
            "[[0 1 2]\n",
            " [3 4 5]\n",
            " [6 7 8]]\n",
            "1\n",
            "1\n",
            "[[10  1  2]\n",
            " [ 3  4  5]\n",
            " [ 6  7  8]]\n"
          ]
        }
      ]
    },
    {
      "cell_type": "code",
      "source": [
        "# 1차원 배열의 슬라이싱\n",
        "a1 = np.arange(6)\n",
        "print(a1)\n",
        "print(a1[0:3])\n",
        "print(a1[1:])\n",
        "print(a1[-2:])\n",
        "print(a1[:-3])\n",
        "print(a1[::2])  # 첫인덱스부터 끝인덱스까지 2씩 증가하여 출력\n",
        "print(a1[::-1]) # 뒤에서 부터 -1씩 감소하면서 출력"
      ],
      "metadata": {
        "colab": {
          "base_uri": "https://localhost:8080/"
        },
        "id": "QSy9P-NnRfBn",
        "outputId": "86dad703-0b74-45ff-f357-27f5a3237fc8"
      },
      "execution_count": 58,
      "outputs": [
        {
          "output_type": "stream",
          "name": "stdout",
          "text": [
            "[0 1 2 3 4 5]\n",
            "[0 1 2]\n",
            "[1 2 3 4 5]\n",
            "[4 5]\n",
            "[0 1 2]\n",
            "[0 2 4]\n"
          ]
        }
      ]
    },
    {
      "cell_type": "code",
      "source": [
        "# 2차원 배열 슬라이싱\n",
        "a2 = np.arange(1, 25).reshape((4,6))\n",
        "\n",
        "print(a2)\n",
        "print(a2[1])\n",
        "print(a2[1:3, 1:5])  # ,를 기준으로 앞에는 해으 뒤에는 열 [1:3, 1:5] -> [1부터 2행을 처리, 1열부터 4열을 처리]\n",
        "print(a2[2, :])  # 2 행의 처음부터 끝까지 출력\n",
        "print(a2[:3, :3])\n",
        "print(a2[0, :])\n",
        "print(a2[2:, ::-1]) # 2행부터 3행까지 모든 열을 -1부터 -1씩 감소하면서 끝까지 출력\n",
        "print(a2[::-1,::-1])  # 모든 행과 열을 -1부터 -1씩 끝까지 출력(상하좌우 반전)"
      ],
      "metadata": {
        "colab": {
          "base_uri": "https://localhost:8080/"
        },
        "id": "bybN4SsMStLe",
        "outputId": "aa979057-bbc1-41fd-e05f-16de9b48344d"
      },
      "execution_count": 64,
      "outputs": [
        {
          "output_type": "stream",
          "name": "stdout",
          "text": [
            "[[ 1  2  3  4  5  6]\n",
            " [ 7  8  9 10 11 12]\n",
            " [13 14 15 16 17 18]\n",
            " [19 20 21 22 23 24]]\n",
            "[ 7  8  9 10 11 12]\n",
            "[[ 8  9 10 11]\n",
            " [14 15 16 17]]\n",
            "[13 14 15 16 17 18]\n",
            "[[ 1  2  3]\n",
            " [ 7  8  9]\n",
            " [13 14 15]]\n",
            "[1 2 3 4 5 6]\n",
            "[[18 17 16 15 14 13]\n",
            " [24 23 22 21 20 19]]\n",
            "[[24 23 22 21 20 19]\n",
            " [18 17 16 15 14 13]\n",
            " [12 11 10  9  8  7]\n",
            " [ 6  5  4  3  2  1]]\n"
          ]
        }
      ]
    },
    {
      "cell_type": "markdown",
      "source": [
        "논리 인덱싱\n",
        "  - 배열 각 요소의 선택여부 불린을 지정하는 방식"
      ],
      "metadata": {
        "id": "P_GQnlvuXWKr"
      }
    },
    {
      "cell_type": "code",
      "source": [
        "# 논리 인덱싱 개념\n",
        "a = np.arange(1,6)\n",
        "print(a)\n",
        "\n",
        "b = [True, False, False, True, False]\n",
        "print(a[b])"
      ],
      "metadata": {
        "colab": {
          "base_uri": "https://localhost:8080/"
        },
        "id": "NDAiAmpkaBgV",
        "outputId": "498d54d6-2e23-4e21-ea5d-6df11596e1c2"
      },
      "execution_count": 65,
      "outputs": [
        {
          "output_type": "stream",
          "name": "stdout",
          "text": [
            "[1 2 3 4 5]\n",
            "[1 4]\n"
          ]
        }
      ]
    },
    {
      "cell_type": "code",
      "source": [
        "# 불린 인덱싱 : 비교연산자\n",
        "a = np.arange(11)\n",
        "print(a[a<5])\n",
        "\n",
        "five_up = (a>=5)\n",
        "print(a[five_up])\n",
        "\n",
        "div = a[a%2==0]\n",
        "print(div)"
      ],
      "metadata": {
        "colab": {
          "base_uri": "https://localhost:8080/"
        },
        "id": "f8pIo4BhaYJC",
        "outputId": "b56cd209-ca50-4202-9301-c5aa1d7d2f4f"
      },
      "execution_count": 68,
      "outputs": [
        {
          "output_type": "stream",
          "name": "stdout",
          "text": [
            "[0 1 2 3 4]\n",
            "[ 5  6  7  8  9 10]\n",
            "[ 0  2  4  6  8 10]\n"
          ]
        }
      ]
    },
    {
      "cell_type": "code",
      "source": [
        "# 불린인덱싱 : 관계연산자\n",
        "# 논리연산자\n",
        "\n",
        "c = a[(a>5) & (a<11)]\n",
        "print(c)\n",
        "\n",
        "d = a[(a>9) | (a<5)]\n",
        "print(d)\n",
        "\n",
        "e = a[~(a%3==0)]\n",
        "print(e)"
      ],
      "metadata": {
        "colab": {
          "base_uri": "https://localhost:8080/"
        },
        "id": "gcDhhpvUa8mI",
        "outputId": "5cc4c871-a73d-4667-aadc-689930fdf3d6"
      },
      "execution_count": 71,
      "outputs": [
        {
          "output_type": "stream",
          "name": "stdout",
          "text": [
            "[ 6  7  8  9 10]\n",
            "[ 0  1  2  3  4 10]\n",
            "[ 1  2  4  5  7  8 10]\n"
          ]
        }
      ]
    },
    {
      "cell_type": "markdown",
      "source": [
        "배열연산\n",
        "  - 산술연산자와 함수\n",
        "    1. np.add()\n",
        "    2. np.subtract()\n",
        "    3. np.multiply()\n",
        "    4. np.divide()\n",
        "  - 수학함수\n",
        "    1. np.exp()\n",
        "    2. np.sqrt()\n",
        "    3. np.sin()\n",
        "    4. np.log()"
      ],
      "metadata": {
        "id": "A1GvXAWkbm4D"
      }
    },
    {
      "cell_type": "markdown",
      "source": [
        "집계함수\n",
        "- ![image.png](data:image/png;base64,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)\n"
      ],
      "metadata": {
        "id": "9mrpA-2dcK7J"
      }
    },
    {
      "cell_type": "code",
      "source": [
        "# 집계함수\n",
        "# 합계\n",
        "\n",
        "a = np.arange(1,10).reshape(3,3)\n",
        "print(a.sum())\n",
        "print(np.sum(a))\n",
        "print(a)\n",
        "\n",
        "print(np.sum(a, axis=0))\n",
        "print(a.sum(axis=0))\n",
        "\n",
        "print(np.sum(a, axis=1))\n",
        "print(a.sum(axis=1))"
      ],
      "metadata": {
        "colab": {
          "base_uri": "https://localhost:8080/"
        },
        "id": "ihThikQnclhU",
        "outputId": "703104fb-a1ce-4162-b0ba-26d1d6e12695"
      },
      "execution_count": 77,
      "outputs": [
        {
          "output_type": "stream",
          "name": "stdout",
          "text": [
            "45\n",
            "45\n",
            "[[1 2 3]\n",
            " [4 5 6]\n",
            " [7 8 9]]\n",
            "[12 15 18]\n",
            "[12 15 18]\n",
            "[ 6 15 24]\n",
            "[ 6 15 24]\n"
          ]
        }
      ]
    },
    {
      "cell_type": "code",
      "source": [
        "# 최대값\n",
        "\n",
        "a = np.arange(1,10).reshape(3,3)\n",
        "print(a)\n",
        "print(a.max(), np.max(a))\n",
        "print(a.max(axis=0), np.max(a, axis=0))\n",
        "print(a.max(axis=1), np.max(a, axis=1))"
      ],
      "metadata": {
        "colab": {
          "base_uri": "https://localhost:8080/"
        },
        "id": "ndNCHCwhd2TN",
        "outputId": "e14657ac-3d24-46f8-cf44-90bb99b32aa2"
      },
      "execution_count": 80,
      "outputs": [
        {
          "output_type": "stream",
          "name": "stdout",
          "text": [
            "[[1 2 3]\n",
            " [4 5 6]\n",
            " [7 8 9]]\n",
            "9 9\n",
            "[7 8 9] [7 8 9]\n",
            "[3 6 9] [3 6 9]\n"
          ]
        }
      ]
    },
    {
      "cell_type": "code",
      "source": [
        "# 최소값 : .min(), np.min()"
      ],
      "metadata": {
        "id": "OYgGdHFWeUUn"
      },
      "execution_count": null,
      "outputs": []
    },
    {
      "cell_type": "code",
      "source": [
        "# 평균/ 중앙값 : .mean(), np.mean()/ np.median()\n",
        "\n",
        "print(a.mean(), np.mean(a))\n",
        "print(a.mean(axis=0), np.mean(a, axis=0))\n",
        "print(np.median(a))\n",
        "print(np.median(a, axis=0))\n",
        "print(np.median(a, axis=1))"
      ],
      "metadata": {
        "colab": {
          "base_uri": "https://localhost:8080/"
        },
        "id": "LjR73yxSebyq",
        "outputId": "b8d0a326-da4b-4b33-80a6-28ea1ebfff3e"
      },
      "execution_count": 81,
      "outputs": [
        {
          "output_type": "stream",
          "name": "stdout",
          "text": [
            "5.0 5.0\n",
            "[4. 5. 6.] [4. 5. 6.]\n",
            "5.0\n",
            "[4. 5. 6.]\n",
            "[2. 5. 8.]\n"
          ]
        }
      ]
    },
    {
      "cell_type": "code",
      "source": [
        "# 표준편차 : .std(), np.std()\n",
        "\n",
        "print(a)\n",
        "print(a.std(), np.std(a))"
      ],
      "metadata": {
        "colab": {
          "base_uri": "https://localhost:8080/"
        },
        "id": "-5xTAvr3e3Z3",
        "outputId": "20e8f7db-97e7-4f82-db55-22ea48b6cdbc"
      },
      "execution_count": 82,
      "outputs": [
        {
          "output_type": "stream",
          "name": "stdout",
          "text": [
            "[[1 2 3]\n",
            " [4 5 6]\n",
            " [7 8 9]]\n",
            "2.581988897471611 2.581988897471611\n"
          ]
        }
      ]
    }
  ]
}